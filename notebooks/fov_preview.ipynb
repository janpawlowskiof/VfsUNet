{
 "cells": [
  {
   "cell_type": "code",
   "execution_count": 6,
   "metadata": {
    "collapsed": true
   },
   "outputs": [],
   "source": [
    "import matplotlib.pyplot as plt\n",
    "import torch\n",
    "import torch.nn as nn\n",
    "from src.model.vfs_unet import VfsUNet\n",
    "\n",
    "model = VfsUNet(in_channels=3, out_channels=3)\n",
    "\n",
    "\n",
    "def initialize_weights(m):\n",
    "    if isinstance(m, nn.Conv2d):\n",
    "        m.weight = nn.init.constant_(m.weight, 1)\n",
    "        if m.bias is not None:\n",
    "            nn.init.constant_(m.bias.data, 0)\n",
    "    elif isinstance(m, nn.BatchNorm2d):\n",
    "        nn.init.constant_(m.weight.data, 1)\n",
    "        nn.init.constant_(m.bias.data, 0)\n",
    "\n",
    "model = model.apply(initialize_weights).eval()\n"
   ]
  },
  {
   "cell_type": "code",
   "execution_count": 7,
   "outputs": [
    {
     "name": "stdout",
     "output_type": "stream",
     "text": [
      "tensor(3.7689e+18, grad_fn=<MaxBackward1>)\n",
      "tensor(1., grad_fn=<MaxBackward1>)\n"
     ]
    },
    {
     "data": {
      "text/plain": "<Figure size 432x288 with 1 Axes>",
      "image/png": "[encoded data removed]"
     },
     "metadata": {
      "needs_background": "light"
     },
     "output_type": "display_data"
    },
    {
     "data": {
      "text/plain": "tensor(False)"
     },
     "execution_count": 7,
     "metadata": {},
     "output_type": "execute_result"
    },
    {
     "data": {
      "text/plain": "<Figure size 432x288 with 1 Axes>",
      "image/png": "[encoded data removed]"
     },
     "metadata": {
      "needs_background": "light"
     },
     "output_type": "display_data"
    }
   ],
   "source": [
    "import cv2\n",
    "\n",
    "data = torch.zeros([1, 3, 720, 1280])\n",
    "data[:, :, 720 // 2+8, 1280 // 2] = 1\n",
    "\n",
    "output_data = model.calculate_residue(data)\n",
    "\n",
    "data = torch.permute(data.squeeze(), (1, 2, 0))\n",
    "plt.imshow(data)\n",
    "plt.show()\n",
    "\n",
    "output_data = torch.permute(output_data.detach().squeeze(), (1, 2, 0))\n",
    "plt.imshow(output_data)\n",
    "# plt.savefig(\"fov.png\")\n",
    "# plt.show()\n",
    "#\n",
    "\n",
    "# output_data\n",
    "((0 < output_data) & (output_data < 1)).any()\n",
    "\n",
    "# output_data.max(), torch.tanh(output_data).max()"
   ],
   "metadata": {
    "collapsed": false,
    "pycharm": {
     "name": "#%%\n"
    }
   }
  },
  {
   "cell_type": "code",
   "execution_count": 18,
   "outputs": [
    {
     "data": {
      "text/plain": "<Figure size 432x288 with 1 Axes>",
      "image/png": "[encoded data removed]"
     },
     "metadata": {
      "needs_background": "light"
     },
     "output_type": "display_data"
    },
    {
     "data": {
      "text/plain": "<Figure size 432x288 with 1 Axes>",
      "image/png": "[encoded data removed]"
     },
     "metadata": {
      "needs_background": "light"
     },
     "output_type": "display_data"
    },
    {
     "data": {
      "text/plain": "188.0"
     },
     "execution_count": 18,
     "metadata": {},
     "output_type": "execute_result"
    }
   ],
   "source": [
    "data = torch.zeros([1, 3, 720, 720])\n",
    "data[:, :, 720 // 2, 720 // 2] = 1\n",
    "\n",
    "output_data = (model.calculate_residue(data) > 0).float()\n",
    "\n",
    "data = torch.permute(data.squeeze(), (1, 2, 0))\n",
    "plt.imshow(data)\n",
    "plt.show()\n",
    "\n",
    "output_data = torch.permute(output_data.detach().squeeze(), (1, 2, 0)).numpy()\n",
    "plt.imshow(output_data)\n",
    "cv2.imwrite(\"fov.png\", output_data*255)\n",
    "plt.show()\n",
    "\n",
    "(output_data.sum() / 3) ** 0.5"
   ],
   "metadata": {
    "collapsed": false,
    "pycharm": {
     "name": "#%%\n"
    }
   }
  },
  {
   "cell_type": "code",
   "execution_count": 39,
   "outputs": [
    {
     "data": {
      "text/plain": "32400"
     },
     "execution_count": 39,
     "metadata": {},
     "output_type": "execute_result"
    }
   ],
   "source": [],
   "metadata": {
    "collapsed": false,
    "pycharm": {
     "name": "#%%\n"
    }
   }
  }
 ],
 "metadata": {
  "kernelspec": {
   "display_name": "Python 3",
   "language": "python",
   "name": "python3"
  },
  "language_info": {
   "codemirror_mode": {
    "name": "ipython",
    "version": 2
   },
   "file_extension": ".py",
   "mimetype": "text/x-python",
   "name": "python",
   "nbconvert_exporter": "python",
   "pygments_lexer": "ipython2",
   "version": "2.7.6"
  }
 },
 "nbformat": 4,
 "nbformat_minor": 0
}