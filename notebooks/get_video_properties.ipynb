{
 "cells": [
  {
   "cell_type": "code",
   "execution_count": 2,
   "metadata": {
    "collapsed": true
   },
   "outputs": [],
   "source": [
    "from pathlib import Path\n",
    "from src.dataset.util.directory_operations import calculate_average_bitrate_in_directory"
   ]
  },
  {
   "cell_type": "code",
   "execution_count": 3,
   "outputs": [
    {
     "data": {
      "text/plain": "{'gta v WITHOUT': [5456362.286827571,\n  6880096.363395627,\n  8771716.694938337,\n  12359789.459332678],\n 'gta v WITH': [5532209.107815692,\n  6961854.0113490205,\n  8813730.885223575,\n  12412083.322917454],\n 'trackmania WITHOUT': [5560080.527707696,\n  6787535.447152059,\n  8359280.204980559,\n  11059150.883351637],\n 'trackmania WITH': [5606119.286159509,\n  6839823.21694221,\n  8420023.22439227,\n  11128473.722121635],\n 'katana WITHOUT': [4653258.735094594,\n  5779458.048877091,\n  7330826.003834324,\n  10042690.658955885],\n 'katana WITH': [4696849.522479248,\n  5832901.185732946,\n  7396559.923903425,\n  10123743.262082333],\n 'tf2 WITHOUT': [4645869.77537955,\n  5607686.709712822,\n  6854642.840131699,\n  9076529.710993232],\n 'tf2 WITH': [4684924.847448327,\n  5654621.318456192,\n  6912252.241448692,\n  9145146.679714652]}"
     },
     "execution_count": 3,
     "metadata": {},
     "output_type": "execute_result"
    }
   ],
   "source": [
    "bitrates = {\n",
    "    \"gta v WITHOUT\": [\n",
    "        calculate_average_bitrate_in_directory(\n",
    "            Path(f\"/mnt/nfs_svtai10-nvme1n1p1/jpawlowski/gta_v/valid/ai_hevc_qp={qp}\")\n",
    "        )\n",
    "        for qp in (39, 37, 35, 32)\n",
    "    ],\n",
    "    \"gta v WITH\": [\n",
    "        calculate_average_bitrate_in_directory(\n",
    "            Path(f\"/mnt/nfs_svtai10-nvme1n1p1/jpawlowski/gta_v/valid/ai_hevc_deblocked_qp={qp}\")\n",
    "        )\n",
    "        for qp in (39, 37, 35, 32)\n",
    "    ],\n",
    "    \"trackmania WITHOUT\": [\n",
    "        calculate_average_bitrate_in_directory(\n",
    "            Path(f\"/mnt/nfs_svtai09-nvme1n1p1/jpawlowski/trackmania/valid/ai_hevc_qp={qp}\")\n",
    "        )\n",
    "        for qp in (39, 37, 35, 32)\n",
    "    ],\n",
    "    \"trackmania WITH\": [\n",
    "        calculate_average_bitrate_in_directory(\n",
    "            Path(f\"/mnt/nfs_svtai09-nvme1n1p1/jpawlowski/trackmania/valid/ai_hevc_deblocked_qp={qp}\")\n",
    "        )\n",
    "        for qp in (39, 37, 35, 32)\n",
    "    ],\n",
    "    \"katana WITHOUT\": [\n",
    "        calculate_average_bitrate_in_directory(\n",
    "            Path(f\"/mnt/nfs_svtai08-nvme1n1p1/katana_zero/valid/ai_hevc_qp={qp}\")\n",
    "        )\n",
    "        for qp in (39, 37, 35, 32)\n",
    "    ],\n",
    "    \"katana WITH\": [\n",
    "        calculate_average_bitrate_in_directory(\n",
    "            Path(f\"/mnt/nfs_svtai08-nvme1n1p1/katana_zero/valid/ai_hevc_deblocked_qp={qp}\")\n",
    "        )\n",
    "        for qp in (39, 37, 35, 32)\n",
    "    ],\n",
    "    \"tf2 WITHOUT\": [\n",
    "        calculate_average_bitrate_in_directory(\n",
    "            Path(f\"/mnt/nfs_svtai10-nvme1n1p1/jpawlowski/tf2/valid/ai_hevc_qp={qp}\")\n",
    "        )\n",
    "        for qp in (39, 37, 35, 32)\n",
    "    ],\n",
    "    \"tf2 WITH\": [\n",
    "        calculate_average_bitrate_in_directory(\n",
    "            Path(f\"/mnt/nfs_svtai10-nvme1n1p1/jpawlowski/tf2/valid/ai_hevc_deblocked_qp={qp}\")\n",
    "        )\n",
    "        for qp in (39, 37, 35, 32)\n",
    "    ],\n",
    "}\n",
    "bitrates"
   ],
   "metadata": {
    "collapsed": false,
    "pycharm": {
     "name": "#%%\n"
    }
   }
  }
 ],
 "metadata": {
  "kernelspec": {
   "name": "pycharm-ba4c304a",
   "language": "python",
   "display_name": "PyCharm (streaming_nn)"
  },
  "language_info": {
   "codemirror_mode": {
    "name": "ipython",
    "version": 2
   },
   "file_extension": ".py",
   "mimetype": "text/x-python",
   "name": "python",
   "nbconvert_exporter": "python",
   "pygments_lexer": "ipython2",
   "version": "2.7.6"
  }
 },
 "nbformat": 4,
 "nbformat_minor": 0
}